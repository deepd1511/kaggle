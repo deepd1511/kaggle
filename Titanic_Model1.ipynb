{
 "cells": [
  {
   "cell_type": "code",
   "execution_count": 10,
   "metadata": {
    "colab": {
     "base_uri": "https://localhost:8080/",
     "height": 153
    },
    "colab_type": "code",
    "id": "EK8WZeFDbibd",
    "outputId": "022d88a6-89c8-44cd-c57f-25decc74893a"
   },
   "outputs": [
    {
     "name": "stdout",
     "output_type": "stream",
     "text": [
      "matplotlib: 3.0.3\n",
      "sklearn: 0.21.3\n",
      "scipy: 1.3.1\n",
      "seaborn: 0.9.0\n",
      "pandas: 0.24.2\n",
      "numpy: 1.16.5\n",
      "Python: 3.6.8 (default, Jan 14 2019, 11:02:34) \n",
      "[GCC 8.0.1 20180414 (experimental) [trunk revision 259383]]\n"
     ]
    }
   ],
   "source": [
    "from sklearn.metrics import make_scorer, accuracy_score\n",
    "from sklearn.model_selection import train_test_split\n",
    "from sklearn.ensemble import RandomForestClassifier\n",
    "from sklearn.linear_model import LogisticRegression\n",
    "from sklearn.metrics import classification_report\n",
    "from sklearn.model_selection import GridSearchCV\n",
    "from sklearn.metrics import confusion_matrix\n",
    "from sklearn.metrics import accuracy_score\n",
    "from sklearn import preprocessing\n",
    "import matplotlib.pylab as pylab\n",
    "import matplotlib.pyplot as plt\n",
    "from pandas import get_dummies\n",
    "import matplotlib as mpl\n",
    "import xgboost as xgb\n",
    "import seaborn as sns\n",
    "import pandas as pd\n",
    "import numpy as np\n",
    "import matplotlib\n",
    "import warnings\n",
    "import sklearn\n",
    "import scipy\n",
    "import numpy\n",
    "import json\n",
    "import sys\n",
    "import csv\n",
    "import os\n",
    "\n",
    "print('matplotlib: {}'.format(matplotlib.__version__))\n",
    "print('sklearn: {}'.format(sklearn.__version__))\n",
    "print('scipy: {}'.format(scipy.__version__))\n",
    "print('seaborn: {}'.format(sns.__version__))\n",
    "print('pandas: {}'.format(pd.__version__))\n",
    "print('numpy: {}'.format(np.__version__))\n",
    "print('Python: {}'.format(sys.version))"
   ]
  },
  {
   "cell_type": "code",
   "execution_count": 0,
   "metadata": {
    "colab": {},
    "colab_type": "code",
    "id": "7mS2H7RIbif9"
   },
   "outputs": [],
   "source": [
    "raw_train_data = pd.read_csv(\"/content/train.csv\")\n",
    "raw_test_data = pd.read_csv(\"/content/test.csv\")\n",
    "train_data = raw_train_data.copy()\n",
    "test_data = raw_test_data.copy()\n"
   ]
  },
  {
   "cell_type": "code",
   "execution_count": 0,
   "metadata": {
    "colab": {},
    "colab_type": "code",
    "id": "PnILZaYB2dP1"
   },
   "outputs": [],
   "source": [
    "# drop - PassengerId, Name, Ticket, Cabin\n",
    "# missing value treatment - Age,Embarked,Fare\n",
    "# Label Encode - Sex, Embarked"
   ]
  },
  {
   "cell_type": "code",
   "execution_count": 62,
   "metadata": {
    "colab": {
     "base_uri": "https://localhost:8080/",
     "height": 68
    },
    "colab_type": "code",
    "id": "TXVnMqJQtlmJ",
    "outputId": "f3ae7f36-23e3-44fb-deb7-dc8ae60d5138"
   },
   "outputs": [
    {
     "name": "stdout",
     "output_type": "stream",
     "text": [
      "28.0\n",
      "14.4542\n",
      "S\n"
     ]
    }
   ],
   "source": [
    "# replace missing values in age with median\n",
    "train_age_median = train_data[\"Age\"].median()\n",
    "print(train_age_median)\n",
    "train_data[\"Age\"].fillna(train_age_median,inplace = True)\n",
    "test_data[\"Age\"].fillna(train_age_median,inplace = True)\n",
    "\n",
    "train_fare_median = train_data[\"Fare\"].median()\n",
    "print(train_fare_median)\n",
    "train_data[\"Fare\"].fillna(train_fare_median,inplace = True)\n",
    "test_data[\"Fare\"].fillna(train_fare_median,inplace = True)\n",
    "\n",
    "train_embarked_mode = train_data[\"Embarked\"].mode()[0]\n",
    "print(train_embarked_mode)\n",
    "train_data[\"Embarked\"].fillna(train_embarked_mode,inplace=True)\n",
    "test_data[\"Embarked\"].fillna(train_embarked_mode,inplace = True)"
   ]
  },
  {
   "cell_type": "code",
   "execution_count": 63,
   "metadata": {
    "colab": {
     "base_uri": "https://localhost:8080/",
     "height": 170
    },
    "colab_type": "code",
    "id": "ZcBKkfODuBcm",
    "outputId": "4da17c3d-ff94-44b9-c681-2b976d5b2978"
   },
   "outputs": [
    {
     "name": "stdout",
     "output_type": "stream",
     "text": [
      "PassengerId dropped\n",
      "Name dropped\n",
      "Ticket dropped\n",
      "Cabin dropped\n",
      "**************************************************\n",
      "Label Encoding\n",
      "Sex label encoded\n",
      "Embarked label encoded\n",
      "**************************************************\n"
     ]
    }
   ],
   "source": [
    "# Drop Columns\n",
    "def drop_features(features_list,train_data, test_data):\n",
    "     \n",
    "    for feature in features_list:\n",
    "      if feature in train_data.columns:\n",
    "        train_data.drop(feature,axis=1,inplace = True)\n",
    "        test_data.drop(feature,axis=1, inplace = True)\n",
    "        print(feature + \" dropped\")\n",
    "      else:\n",
    "        print(feature + \" not present dataframe\")\n",
    "        \n",
    "    print(\"*\"*50)\n",
    "    return train_data,test_data\n",
    "    \n",
    "train_data, test_data = drop_features([\"PassengerId\",\"Name\",\"Ticket\",\"Cabin\"],train_data, test_data)\n",
    "\n",
    "\n",
    "# Label Encoding Columns\n",
    "from sklearn import preprocessing\n",
    "def label_encode_features(features_list,train_data, test_data):\n",
    "    print(\"Label Encoding\") \n",
    "    for feature in features_list:\n",
    "        if feature in train_data.columns:\n",
    "          le = preprocessing.LabelEncoder()\n",
    "          train_data[feature] = le.fit_transform(train_data[feature])\n",
    "          test_data[feature] = le.transform(test_data[feature])\n",
    "          print(feature + \" label encoded\")\n",
    "        else:\n",
    "          print(feature + \" not present in dataframe\")\n",
    "    print(\"*\"*50)\n",
    "    return train_data,test_data\n",
    "    \n",
    "train_data, test_data = label_encode_features([\"Sex\",\"Embarked\"],train_data, test_data)"
   ]
  },
  {
   "cell_type": "code",
   "execution_count": 66,
   "metadata": {
    "colab": {
     "base_uri": "https://localhost:8080/",
     "height": 136
    },
    "colab_type": "code",
    "id": "gtJ7lGijrko3",
    "outputId": "cd785014-0459-46e8-8cca-f0796215a8c4"
   },
   "outputs": [
    {
     "data": {
      "text/plain": [
       "RandomForestClassifier(bootstrap=True, class_weight=None, criterion='gini',\n",
       "                       max_depth=None, max_features='auto', max_leaf_nodes=None,\n",
       "                       min_impurity_decrease=0.0, min_impurity_split=None,\n",
       "                       min_samples_leaf=1, min_samples_split=2,\n",
       "                       min_weight_fraction_leaf=0.0, n_estimators=10,\n",
       "                       n_jobs=None, oob_score=False, random_state=None,\n",
       "                       verbose=0, warm_start=False)"
      ]
     },
     "execution_count": 66,
     "metadata": {
      "tags": []
     },
     "output_type": "execute_result"
    }
   ],
   "source": [
    "rfc =RandomForestClassifier()\n",
    "X = train_data.drop([\"Survived\"],axis=1)\n",
    "y = train_data[\"Survived\"]\n",
    "rfc.fit(X,y)"
   ]
  },
  {
   "cell_type": "code",
   "execution_count": 78,
   "metadata": {
    "colab": {
     "base_uri": "https://localhost:8080/",
     "height": 204
    },
    "colab_type": "code",
    "id": "To6op6CUiBOt",
    "outputId": "fa548bac-15a7-4c99-dd94-d659b5c7716e"
   },
   "outputs": [
    {
     "data": {
      "text/html": [
       "<div>\n",
       "<style scoped>\n",
       "    .dataframe tbody tr th:only-of-type {\n",
       "        vertical-align: middle;\n",
       "    }\n",
       "\n",
       "    .dataframe tbody tr th {\n",
       "        vertical-align: top;\n",
       "    }\n",
       "\n",
       "    .dataframe thead th {\n",
       "        text-align: right;\n",
       "    }\n",
       "</style>\n",
       "<table border=\"1\" class=\"dataframe\">\n",
       "  <thead>\n",
       "    <tr style=\"text-align: right;\">\n",
       "      <th></th>\n",
       "      <th>PassengerId</th>\n",
       "      <th>Survived</th>\n",
       "    </tr>\n",
       "  </thead>\n",
       "  <tbody>\n",
       "    <tr>\n",
       "      <th>413</th>\n",
       "      <td>1305</td>\n",
       "      <td>0</td>\n",
       "    </tr>\n",
       "    <tr>\n",
       "      <th>414</th>\n",
       "      <td>1306</td>\n",
       "      <td>1</td>\n",
       "    </tr>\n",
       "    <tr>\n",
       "      <th>415</th>\n",
       "      <td>1307</td>\n",
       "      <td>0</td>\n",
       "    </tr>\n",
       "    <tr>\n",
       "      <th>416</th>\n",
       "      <td>1308</td>\n",
       "      <td>0</td>\n",
       "    </tr>\n",
       "    <tr>\n",
       "      <th>417</th>\n",
       "      <td>1309</td>\n",
       "      <td>1</td>\n",
       "    </tr>\n",
       "  </tbody>\n",
       "</table>\n",
       "</div>"
      ],
      "text/plain": [
       "     PassengerId  Survived\n",
       "413         1305         0\n",
       "414         1306         1\n",
       "415         1307         0\n",
       "416         1308         0\n",
       "417         1309         1"
      ]
     },
     "execution_count": 78,
     "metadata": {
      "tags": []
     },
     "output_type": "execute_result"
    }
   ],
   "source": [
    "results = rfc.predict(test_data)\n",
    "submission_data = pd.DataFrame(columns=[\"PassengerId\",\"Survived\"])\n",
    "\n",
    "submission_data[\"PassengerId\"] = raw_test_data[\"PassengerId\"]\n",
    "submission_data[\"Survived\"] = results"
   ]
  }
 ],
 "metadata": {
  "accelerator": "GPU",
  "colab": {
   "collapsed_sections": [],
   "name": "Titanic_Predicting_Survival_m1d0.ipynb",
   "provenance": [],
   "toc_visible": true,
   "version": "0.3.2"
  },
  "kernelspec": {
   "display_name": "Python 3",
   "language": "python",
   "name": "python3"
  },
  "language_info": {
   "codemirror_mode": {
    "name": "ipython",
    "version": 3
   },
   "file_extension": ".py",
   "mimetype": "text/x-python",
   "name": "python",
   "nbconvert_exporter": "python",
   "pygments_lexer": "ipython3",
   "version": "3.7.3"
  }
 },
 "nbformat": 4,
 "nbformat_minor": 1
}
